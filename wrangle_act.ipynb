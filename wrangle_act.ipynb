{
 "cells": [
  {
   "cell_type": "markdown",
   "metadata": {},
   "source": [
    "## 收集数据"
   ]
  },
  {
   "cell_type": "code",
   "execution_count": 1,
   "metadata": {
    "ExecuteTime": {
     "end_time": "2019-09-19T05:47:07.928841Z",
     "start_time": "2019-09-19T05:47:07.258056Z"
    }
   },
   "outputs": [],
   "source": [
    "import pandas as pd\n",
    "import numpy as np\n",
    "import requests"
   ]
  },
  {
   "cell_type": "code",
   "execution_count": 2,
   "metadata": {
    "ExecuteTime": {
     "end_time": "2019-09-19T05:47:08.713036Z",
     "start_time": "2019-09-19T05:47:07.931207Z"
    }
   },
   "outputs": [],
   "source": [
    "# 收集推特图像的预测数据\n",
    "url = \"https://raw.githubusercontent.com/udacity/new-dand-advanced-china/master/数据清洗/WeRateDogs项目/image-predictions.tsv\"\n",
    "response = requests.get(url)\n",
    "with open(\"image-predictions.tsv\", \"w\") as fb:\n",
    "    fb.write(response.text)"
   ]
  },
  {
   "cell_type": "code",
   "execution_count": 3,
   "metadata": {
    "ExecuteTime": {
     "end_time": "2019-09-19T05:47:09.354278Z",
     "start_time": "2019-09-19T05:47:08.715495Z"
    }
   },
   "outputs": [],
   "source": [
    "# 三个文件收集完毕，现在将数据读如 DataFrame\n",
    "df_arc = pd.read_csv(\"twitter-archive-enhanced.csv\")\n",
    "df_img = pd.read_csv(\"image-predictions.tsv\", sep=\"\\t\")\n",
    "\n",
    "# 导师的意见\n",
    "# 1. 使用 Pandas 的 `read_json` 函数 https://pandas.pydata.org/pandas-docs/stable/generated/pandas.read_json.html\n",
    "# 2. 只获取 `id`, `retweet_count` 和 `favorite_count` 三列\n",
    "df_api = pd.read_json('tweet_json.txt', lines=True)[['id', 'retweet_count', 'favorite_count']]"
   ]
  },
  {
   "cell_type": "markdown",
   "metadata": {},
   "source": [
    "## 评估数据"
   ]
  },
  {
   "cell_type": "code",
   "execution_count": 4,
   "metadata": {
    "ExecuteTime": {
     "end_time": "2019-09-19T05:47:09.388114Z",
     "start_time": "2019-09-19T05:47:09.356166Z"
    }
   },
   "outputs": [
    {
     "data": {
      "text/html": [
       "<div>\n",
       "<style scoped>\n",
       "    .dataframe tbody tr th:only-of-type {\n",
       "        vertical-align: middle;\n",
       "    }\n",
       "\n",
       "    .dataframe tbody tr th {\n",
       "        vertical-align: top;\n",
       "    }\n",
       "\n",
       "    .dataframe thead th {\n",
       "        text-align: right;\n",
       "    }\n",
       "</style>\n",
       "<table border=\"1\" class=\"dataframe\">\n",
       "  <thead>\n",
       "    <tr style=\"text-align: right;\">\n",
       "      <th></th>\n",
       "      <th>tweet_id</th>\n",
       "      <th>in_reply_to_status_id</th>\n",
       "      <th>in_reply_to_user_id</th>\n",
       "      <th>timestamp</th>\n",
       "      <th>source</th>\n",
       "      <th>text</th>\n",
       "      <th>retweeted_status_id</th>\n",
       "      <th>retweeted_status_user_id</th>\n",
       "      <th>retweeted_status_timestamp</th>\n",
       "      <th>expanded_urls</th>\n",
       "      <th>rating_numerator</th>\n",
       "      <th>rating_denominator</th>\n",
       "      <th>name</th>\n",
       "      <th>doggo</th>\n",
       "      <th>floofer</th>\n",
       "      <th>pupper</th>\n",
       "      <th>puppo</th>\n",
       "    </tr>\n",
       "  </thead>\n",
       "  <tbody>\n",
       "    <tr>\n",
       "      <th>313</th>\n",
       "      <td>835246439529840640</td>\n",
       "      <td>8.352460e+17</td>\n",
       "      <td>26259576.0</td>\n",
       "      <td>2017-02-24 21:54:03 +0000</td>\n",
       "      <td>&lt;a href=\"http://twitter.com/download/iphone\" r...</td>\n",
       "      <td>@jonnysun @Lin_Manuel ok jomny I know you're e...</td>\n",
       "      <td>NaN</td>\n",
       "      <td>NaN</td>\n",
       "      <td>NaN</td>\n",
       "      <td>NaN</td>\n",
       "      <td>960</td>\n",
       "      <td>0</td>\n",
       "      <td>None</td>\n",
       "      <td>None</td>\n",
       "      <td>None</td>\n",
       "      <td>None</td>\n",
       "      <td>None</td>\n",
       "    </tr>\n",
       "  </tbody>\n",
       "</table>\n",
       "</div>"
      ],
      "text/plain": [
       "               tweet_id  in_reply_to_status_id  in_reply_to_user_id  \\\n",
       "313  835246439529840640           8.352460e+17           26259576.0   \n",
       "\n",
       "                     timestamp  \\\n",
       "313  2017-02-24 21:54:03 +0000   \n",
       "\n",
       "                                                source  \\\n",
       "313  <a href=\"http://twitter.com/download/iphone\" r...   \n",
       "\n",
       "                                                  text  retweeted_status_id  \\\n",
       "313  @jonnysun @Lin_Manuel ok jomny I know you're e...                  NaN   \n",
       "\n",
       "     retweeted_status_user_id retweeted_status_timestamp expanded_urls  \\\n",
       "313                       NaN                        NaN           NaN   \n",
       "\n",
       "     rating_numerator  rating_denominator  name doggo floofer pupper puppo  \n",
       "313               960                   0  None  None    None   None  None  "
      ]
     },
     "execution_count": 4,
     "metadata": {},
     "output_type": "execute_result"
    }
   ],
   "source": [
    "# `rating_denominator` 有些是 10，有些不是 10\n",
    "df_arc.query(\"rating_denominator != 10\").head(1)"
   ]
  },
  {
   "cell_type": "code",
   "execution_count": 5,
   "metadata": {
    "ExecuteTime": {
     "end_time": "2019-09-19T05:47:09.405207Z",
     "start_time": "2019-09-19T05:47:09.389807Z"
    }
   },
   "outputs": [
    {
     "data": {
      "text/html": [
       "<div>\n",
       "<style scoped>\n",
       "    .dataframe tbody tr th:only-of-type {\n",
       "        vertical-align: middle;\n",
       "    }\n",
       "\n",
       "    .dataframe tbody tr th {\n",
       "        vertical-align: top;\n",
       "    }\n",
       "\n",
       "    .dataframe thead th {\n",
       "        text-align: right;\n",
       "    }\n",
       "</style>\n",
       "<table border=\"1\" class=\"dataframe\">\n",
       "  <thead>\n",
       "    <tr style=\"text-align: right;\">\n",
       "      <th></th>\n",
       "      <th>tweet_id</th>\n",
       "      <th>in_reply_to_status_id</th>\n",
       "      <th>in_reply_to_user_id</th>\n",
       "      <th>timestamp</th>\n",
       "      <th>source</th>\n",
       "      <th>text</th>\n",
       "      <th>retweeted_status_id</th>\n",
       "      <th>retweeted_status_user_id</th>\n",
       "      <th>retweeted_status_timestamp</th>\n",
       "      <th>expanded_urls</th>\n",
       "      <th>rating_numerator</th>\n",
       "      <th>rating_denominator</th>\n",
       "      <th>name</th>\n",
       "      <th>doggo</th>\n",
       "      <th>floofer</th>\n",
       "      <th>pupper</th>\n",
       "      <th>puppo</th>\n",
       "    </tr>\n",
       "  </thead>\n",
       "  <tbody>\n",
       "    <tr>\n",
       "      <th>340</th>\n",
       "      <td>832215909146226688</td>\n",
       "      <td>NaN</td>\n",
       "      <td>NaN</td>\n",
       "      <td>2017-02-16 13:11:49 +0000</td>\n",
       "      <td>&lt;a href=\"http://twitter.com/download/iphone\" r...</td>\n",
       "      <td>RT @dog_rates: This is Logan, the Chow who liv...</td>\n",
       "      <td>7.867091e+17</td>\n",
       "      <td>4.196984e+09</td>\n",
       "      <td>2016-10-13 23:23:56 +0000</td>\n",
       "      <td>https://twitter.com/dog_rates/status/786709082...</td>\n",
       "      <td>75</td>\n",
       "      <td>10</td>\n",
       "      <td>Logan</td>\n",
       "      <td>None</td>\n",
       "      <td>None</td>\n",
       "      <td>None</td>\n",
       "      <td>None</td>\n",
       "    </tr>\n",
       "  </tbody>\n",
       "</table>\n",
       "</div>"
      ],
      "text/plain": [
       "               tweet_id  in_reply_to_status_id  in_reply_to_user_id  \\\n",
       "340  832215909146226688                    NaN                  NaN   \n",
       "\n",
       "                     timestamp  \\\n",
       "340  2017-02-16 13:11:49 +0000   \n",
       "\n",
       "                                                source  \\\n",
       "340  <a href=\"http://twitter.com/download/iphone\" r...   \n",
       "\n",
       "                                                  text  retweeted_status_id  \\\n",
       "340  RT @dog_rates: This is Logan, the Chow who liv...         7.867091e+17   \n",
       "\n",
       "     retweeted_status_user_id retweeted_status_timestamp  \\\n",
       "340              4.196984e+09  2016-10-13 23:23:56 +0000   \n",
       "\n",
       "                                         expanded_urls  rating_numerator  \\\n",
       "340  https://twitter.com/dog_rates/status/786709082...                75   \n",
       "\n",
       "     rating_denominator   name doggo floofer pupper puppo  \n",
       "340                  10  Logan  None    None   None  None  "
      ]
     },
     "execution_count": 5,
     "metadata": {},
     "output_type": "execute_result"
    }
   ],
   "source": [
    "# `rating_numerator` 缺少小数点精度\n",
    "df_arc.query(\"tweet_id==832215909146226688\").head(1)"
   ]
  },
  {
   "cell_type": "code",
   "execution_count": 6,
   "metadata": {
    "ExecuteTime": {
     "end_time": "2019-09-19T05:47:09.412914Z",
     "start_time": "2019-09-19T05:47:09.406919Z"
    }
   },
   "outputs": [
    {
     "data": {
      "text/plain": [
       "None       745\n",
       "a           55\n",
       "Charlie     12\n",
       "Cooper      11\n",
       "Lucy        11\n",
       "Name: name, dtype: int64"
      ]
     },
     "execution_count": 6,
     "metadata": {},
     "output_type": "execute_result"
    }
   ],
   "source": [
    "# `name=None` 未识别成 NaN\n",
    "# `name` 大小写不统一\n",
    "df_arc['name'].value_counts()[:5]"
   ]
  },
  {
   "cell_type": "code",
   "execution_count": 7,
   "metadata": {
    "ExecuteTime": {
     "end_time": "2019-09-19T05:47:09.419967Z",
     "start_time": "2019-09-19T05:47:09.415523Z"
    }
   },
   "outputs": [
    {
     "data": {
      "text/plain": [
       "tweet_id                        int64\n",
       "in_reply_to_status_id         float64\n",
       "in_reply_to_user_id           float64\n",
       "timestamp                      object\n",
       "source                         object\n",
       "text                           object\n",
       "retweeted_status_id           float64\n",
       "retweeted_status_user_id      float64\n",
       "retweeted_status_timestamp     object\n",
       "expanded_urls                  object\n",
       "rating_numerator                int64\n",
       "rating_denominator              int64\n",
       "name                           object\n",
       "doggo                          object\n",
       "floofer                        object\n",
       "pupper                         object\n",
       "puppo                          object\n",
       "dtype: object"
      ]
     },
     "execution_count": 7,
     "metadata": {},
     "output_type": "execute_result"
    }
   ],
   "source": [
    "# `tweet_id` 类型是 int，应该是 str\n",
    "df_arc.dtypes"
   ]
  },
  {
   "cell_type": "code",
   "execution_count": 8,
   "metadata": {
    "ExecuteTime": {
     "end_time": "2019-09-19T05:47:09.434174Z",
     "start_time": "2019-09-19T05:47:09.421684Z"
    }
   },
   "outputs": [
    {
     "data": {
      "text/html": [
       "<div>\n",
       "<style scoped>\n",
       "    .dataframe tbody tr th:only-of-type {\n",
       "        vertical-align: middle;\n",
       "    }\n",
       "\n",
       "    .dataframe tbody tr th {\n",
       "        vertical-align: top;\n",
       "    }\n",
       "\n",
       "    .dataframe thead th {\n",
       "        text-align: right;\n",
       "    }\n",
       "</style>\n",
       "<table border=\"1\" class=\"dataframe\">\n",
       "  <thead>\n",
       "    <tr style=\"text-align: right;\">\n",
       "      <th></th>\n",
       "      <th>tweet_id</th>\n",
       "      <th>doggo</th>\n",
       "      <th>floofer</th>\n",
       "      <th>pupper</th>\n",
       "      <th>puppo</th>\n",
       "    </tr>\n",
       "  </thead>\n",
       "  <tbody>\n",
       "    <tr>\n",
       "      <th>200</th>\n",
       "      <td>854010172552949760</td>\n",
       "      <td>doggo</td>\n",
       "      <td>floofer</td>\n",
       "      <td>None</td>\n",
       "      <td>None</td>\n",
       "    </tr>\n",
       "  </tbody>\n",
       "</table>\n",
       "</div>"
      ],
      "text/plain": [
       "               tweet_id  doggo  floofer pupper puppo\n",
       "200  854010172552949760  doggo  floofer   None  None"
      ]
     },
     "execution_count": 8,
     "metadata": {},
     "output_type": "execute_result"
    }
   ],
   "source": [
    "# 有些狗狗存在两个stage\n",
    "df_arc.query('doggo!=\"None\" and floofer!=\"None\"')[['tweet_id', 'doggo', 'floofer', 'pupper', 'puppo']]"
   ]
  },
  {
   "cell_type": "code",
   "execution_count": 9,
   "metadata": {
    "ExecuteTime": {
     "end_time": "2019-09-19T05:47:09.441340Z",
     "start_time": "2019-09-19T05:47:09.435863Z"
    }
   },
   "outputs": [
    {
     "data": {
      "text/plain": [
       "None     2259\n",
       "doggo      97\n",
       "Name: doggo, dtype: int64"
      ]
     },
     "execution_count": 9,
     "metadata": {},
     "output_type": "execute_result"
    }
   ],
   "source": [
    "# 狗狗分类 `None` 未识别成 NaN\n",
    "df_arc['doggo'].value_counts()"
   ]
  },
  {
   "cell_type": "code",
   "execution_count": 10,
   "metadata": {
    "ExecuteTime": {
     "end_time": "2019-09-19T05:47:09.448276Z",
     "start_time": "2019-09-19T05:47:09.444075Z"
    }
   },
   "outputs": [
    {
     "data": {
      "text/plain": [
       "181"
      ]
     },
     "execution_count": 10,
     "metadata": {},
     "output_type": "execute_result"
    }
   ],
   "source": [
    "# 数据里包含转发的 Tweet\n",
    "df_arc['retweeted_status_id'].notnull().sum()"
   ]
  },
  {
   "cell_type": "markdown",
   "metadata": {},
   "source": [
    "#### 质量\n",
    "1. `twitter-archive-enhanced.csv`: `rating_numerator` 缺少小数点精度\n",
    "2. `twitter-archive-enhanced.csv`: `rating_denominator` 有些是 10，有些不是 10\n",
    "3. `twitter-archive-enhanced.csv`: `name` 大小写不统一\n",
    "4. `twitter-archive-enhanced.csv`: `name=None` 未识别成 NaN\n",
    "5. `twitter-archive-enhanced.csv`: `tweet_id` 类型是 int，应该是 str\n",
    "6. `twitter-archive-enhanced.csv`: 有些狗狗存在两个stage（如tweet_id=854010172552949760）\n",
    "7. `twitter-archive-enhanced.csv`: 狗狗分类 `None` 未识别成 NaN\n",
    "8. `twitter-archive-enhanced.csv`: 清理转发的 Tweet\n",
    "\n",
    "#### 清洁度\n",
    "1. 狗狗的 `Stage` 用了四列来表示（doggo, floofer, pupper, puppo）\n",
    "2. 三个数据集都是以 `tweet_id` 为观察单位，需要合并成一个表"
   ]
  },
  {
   "cell_type": "markdown",
   "metadata": {},
   "source": [
    "## 清理数据"
   ]
  },
  {
   "cell_type": "code",
   "execution_count": 11,
   "metadata": {
    "ExecuteTime": {
     "end_time": "2019-09-19T05:47:09.454122Z",
     "start_time": "2019-09-19T05:47:09.449709Z"
    }
   },
   "outputs": [],
   "source": [
    "cleaned_df_arc = df_arc.copy()\n",
    "cleaned_df_api = df_api.copy()\n",
    "cleaned_df_img = df_img.copy()"
   ]
  },
  {
   "cell_type": "markdown",
   "metadata": {},
   "source": [
    "#### 质量"
   ]
  },
  {
   "cell_type": "markdown",
   "metadata": {},
   "source": [
    "##### 1. `rating_numerator` 缺少小数点精度\n",
    "\n",
    "##### 定义\n",
    "重新提取狗狗评分的分子 `rating_numerator`\n",
    "\n",
    "##### 代码"
   ]
  },
  {
   "cell_type": "code",
   "execution_count": 12,
   "metadata": {
    "ExecuteTime": {
     "end_time": "2019-09-19T05:47:09.495494Z",
     "start_time": "2019-09-19T05:47:09.455652Z"
    }
   },
   "outputs": [],
   "source": [
    "# 关于评分导师意见\n",
    "# 1. 比如评分 99/90 是 9 只狗狗的 “总评分”，也是「正确」的评分，修改后的评分通过是 9/10（如tweet_id=\"713900603437621249\"）\n",
    "# 2. 分子中存在小数情况\n",
    "# 3. 推文中存在两个分数形式的数字，而最后一个评分才是正确的\n",
    "\n",
    "# 提取评分\n",
    "rating = cleaned_df_arc['text'].str.findall('((?:\\d+\\.)?\\d+/[1-9]+[0]+)').apply(lambda x: x[-1] if len(x) > 0 else x)\n",
    "rating = rating.str.split('/',n=1, expand=True)\n",
    "rating.columns = ['rating_numerator', 'rating_denominator'] # 列名\n",
    "\n",
    "cleaned_df_arc['rating_numerator'] = rating['rating_numerator'].astype(float)\n",
    "cleaned_df_arc['rating_denominator'] = rating['rating_denominator'].astype(float)\n",
    "\n",
    "# 统一将评分修改为分母为 10 \n",
    "# 新的分子等于：原来的分子 / 原来的分母 * 10\n",
    "cleaned_df_arc['rating_numerator']  = cleaned_df_arc['rating_numerator'] / cleaned_df_arc['rating_denominator'] *10\n",
    "# 将分子修改完毕后，可以直接为分母赋值为 10\n",
    "cleaned_df_arc['rating_denominator'] = 10"
   ]
  },
  {
   "cell_type": "markdown",
   "metadata": {},
   "source": [
    "##### 测试"
   ]
  },
  {
   "cell_type": "code",
   "execution_count": 13,
   "metadata": {
    "ExecuteTime": {
     "end_time": "2019-09-19T05:47:09.502373Z",
     "start_time": "2019-09-19T05:47:09.496978Z"
    }
   },
   "outputs": [
    {
     "data": {
      "text/plain": [
       "12.00      561\n",
       "11.00      472\n",
       "10.00      455\n",
       "13.00      355\n",
       "9.00       157\n",
       "8.00       104\n",
       "14.00       56\n",
       "7.00        56\n",
       "5.00        34\n",
       "6.00        33\n",
       "3.00        19\n",
       "4.00        16\n",
       "2.00        11\n",
       "1.00         9\n",
       "0.00         2\n",
       "15.00        2\n",
       "420.00       2\n",
       "9.75         2\n",
       "11.26        1\n",
       "9.50         1\n",
       "11.27        1\n",
       "666.00       1\n",
       "13.50        1\n",
       "1776.00      1\n",
       "182.00       1\n",
       "Name: rating_numerator, dtype: int64"
      ]
     },
     "execution_count": 13,
     "metadata": {},
     "output_type": "execute_result"
    }
   ],
   "source": [
    "cleaned_df_arc['rating_numerator'].value_counts()"
   ]
  },
  {
   "cell_type": "markdown",
   "metadata": {},
   "source": [
    "##### 2. `rating_denominator` 有些是 10，有些不是 10\n",
    "\n",
    "##### 定义\n",
    "将分母统一修改为 10 \n",
    "\n",
    "##### 代码"
   ]
  },
  {
   "cell_type": "code",
   "execution_count": 14,
   "metadata": {
    "ExecuteTime": {
     "end_time": "2019-09-19T05:47:09.506825Z",
     "start_time": "2019-09-19T05:47:09.504102Z"
    }
   },
   "outputs": [],
   "source": [
    "cleaned_df_arc['rating_denominator'] = 10"
   ]
  },
  {
   "cell_type": "markdown",
   "metadata": {},
   "source": [
    "##### 测试"
   ]
  },
  {
   "cell_type": "code",
   "execution_count": 15,
   "metadata": {
    "ExecuteTime": {
     "end_time": "2019-09-19T05:47:09.514734Z",
     "start_time": "2019-09-19T05:47:09.508847Z"
    }
   },
   "outputs": [
    {
     "data": {
      "text/plain": [
       "10    2356\n",
       "Name: rating_denominator, dtype: int64"
      ]
     },
     "execution_count": 15,
     "metadata": {},
     "output_type": "execute_result"
    }
   ],
   "source": [
    "cleaned_df_arc['rating_denominator'].value_counts()"
   ]
  },
  {
   "cell_type": "markdown",
   "metadata": {},
   "source": [
    "#### 3. `name` 大小写不统一\n",
    "\n",
    "##### 定义\n",
    "将 `name` 为小写的狗狗名字改成 NaN\n",
    "\n",
    "##### 代码"
   ]
  },
  {
   "cell_type": "code",
   "execution_count": 16,
   "metadata": {
    "ExecuteTime": {
     "end_time": "2019-09-19T05:47:09.522981Z",
     "start_time": "2019-09-19T05:47:09.516296Z"
    }
   },
   "outputs": [],
   "source": [
    "cleaned_df_arc.loc[cleaned_df_arc.name.str.islower(), \"name\"] = 'None'"
   ]
  },
  {
   "cell_type": "markdown",
   "metadata": {},
   "source": [
    "##### 测试"
   ]
  },
  {
   "cell_type": "code",
   "execution_count": 17,
   "metadata": {
    "ExecuteTime": {
     "end_time": "2019-09-19T05:47:09.530488Z",
     "start_time": "2019-09-19T05:47:09.524575Z"
    }
   },
   "outputs": [
    {
     "data": {
      "text/plain": [
       "Series([], Name: name, dtype: int64)"
      ]
     },
     "execution_count": 17,
     "metadata": {},
     "output_type": "execute_result"
    }
   ],
   "source": [
    "cleaned_df_arc[cleaned_df_arc.name.str.islower()].name.value_counts()"
   ]
  },
  {
   "cell_type": "markdown",
   "metadata": {
    "ExecuteTime": {
     "end_time": "2019-09-05T15:01:57.879897Z",
     "start_time": "2019-09-05T15:01:57.870491Z"
    }
   },
   "source": [
    "#### 4. `name=None` 没识别成 NaN\n",
    "\n",
    "##### 定义\n",
    "将名字是 `None` 狗狗名字标志成 NaN\n",
    "\n",
    "##### 代码"
   ]
  },
  {
   "cell_type": "code",
   "execution_count": 18,
   "metadata": {
    "ExecuteTime": {
     "end_time": "2019-09-19T05:47:09.537202Z",
     "start_time": "2019-09-19T05:47:09.531889Z"
    }
   },
   "outputs": [],
   "source": [
    "cleaned_df_arc.loc[cleaned_df_arc.name == \"None\", \"name\"] = np.nan"
   ]
  },
  {
   "cell_type": "markdown",
   "metadata": {},
   "source": [
    "##### 测试"
   ]
  },
  {
   "cell_type": "code",
   "execution_count": 19,
   "metadata": {
    "ExecuteTime": {
     "end_time": "2019-09-19T05:47:09.546367Z",
     "start_time": "2019-09-19T05:47:09.538827Z"
    }
   },
   "outputs": [
    {
     "data": {
      "text/plain": [
       "0"
      ]
     },
     "execution_count": 19,
     "metadata": {},
     "output_type": "execute_result"
    }
   ],
   "source": [
    "len(cleaned_df_arc.query(\"name=='None'\"))"
   ]
  },
  {
   "cell_type": "markdown",
   "metadata": {},
   "source": [
    "#### 5. `tweet_id` 类型是 int，应该是 str\n",
    "\n",
    "##### 定义\n",
    "将 `tweet_id` 的数据类型转成 `str`\n",
    "\n",
    "##### 代码"
   ]
  },
  {
   "cell_type": "code",
   "execution_count": 20,
   "metadata": {
    "ExecuteTime": {
     "end_time": "2019-09-19T05:47:09.560532Z",
     "start_time": "2019-09-19T05:47:09.548057Z"
    }
   },
   "outputs": [],
   "source": [
    "cleaned_df_arc[\"tweet_id\"] = cleaned_df_arc.astype(\"str\")"
   ]
  },
  {
   "cell_type": "markdown",
   "metadata": {},
   "source": [
    "##### 测试"
   ]
  },
  {
   "cell_type": "code",
   "execution_count": 21,
   "metadata": {
    "ExecuteTime": {
     "end_time": "2019-09-19T05:47:09.566158Z",
     "start_time": "2019-09-19T05:47:09.562007Z"
    }
   },
   "outputs": [
    {
     "data": {
      "text/plain": [
       "tweet_id                       object\n",
       "in_reply_to_status_id         float64\n",
       "in_reply_to_user_id           float64\n",
       "timestamp                      object\n",
       "source                         object\n",
       "text                           object\n",
       "retweeted_status_id           float64\n",
       "retweeted_status_user_id      float64\n",
       "retweeted_status_timestamp     object\n",
       "expanded_urls                  object\n",
       "rating_numerator              float64\n",
       "rating_denominator              int64\n",
       "name                           object\n",
       "doggo                          object\n",
       "floofer                        object\n",
       "pupper                         object\n",
       "puppo                          object\n",
       "dtype: object"
      ]
     },
     "execution_count": 21,
     "metadata": {},
     "output_type": "execute_result"
    }
   ],
   "source": [
    "cleaned_df_arc.dtypes"
   ]
  },
  {
   "cell_type": "markdown",
   "metadata": {},
   "source": [
    "##### 6. `twitter-archive-enhanced.csv`: 有些狗狗存在两个stage（如tweet_id=854010172552949760）\n",
    "\n",
    "##### 定义\n",
    "将包含两个 `stage` 的狗狗，默认值保留第一个 `stage`\n",
    "\n",
    "##### 代码"
   ]
  },
  {
   "cell_type": "code",
   "execution_count": 22,
   "metadata": {
    "ExecuteTime": {
     "end_time": "2019-09-19T05:47:09.590891Z",
     "start_time": "2019-09-19T05:47:09.571387Z"
    }
   },
   "outputs": [],
   "source": [
    "cleaned_df_arc.loc[cleaned_df_arc.query(\"doggo!='None' and floofer!='None'\").index, 'floofer'] = 'None'\n",
    "cleaned_df_arc.loc[cleaned_df_arc.query(\"doggo!='None' and pupper!='None'\").index, 'pupper'] = 'None'\n",
    "cleaned_df_arc.loc[cleaned_df_arc.query(\"doggo!='None' and puppo!='None'\").index, 'puppo'] = 'None'"
   ]
  },
  {
   "cell_type": "markdown",
   "metadata": {},
   "source": [
    "##### 测试"
   ]
  },
  {
   "cell_type": "code",
   "execution_count": 23,
   "metadata": {
    "ExecuteTime": {
     "end_time": "2019-09-19T05:47:09.604562Z",
     "start_time": "2019-09-19T05:47:09.593192Z"
    }
   },
   "outputs": [
    {
     "data": {
      "text/html": [
       "<div>\n",
       "<style scoped>\n",
       "    .dataframe tbody tr th:only-of-type {\n",
       "        vertical-align: middle;\n",
       "    }\n",
       "\n",
       "    .dataframe tbody tr th {\n",
       "        vertical-align: top;\n",
       "    }\n",
       "\n",
       "    .dataframe thead th {\n",
       "        text-align: right;\n",
       "    }\n",
       "</style>\n",
       "<table border=\"1\" class=\"dataframe\">\n",
       "  <thead>\n",
       "    <tr style=\"text-align: right;\">\n",
       "      <th></th>\n",
       "      <th>tweet_id</th>\n",
       "      <th>in_reply_to_status_id</th>\n",
       "      <th>in_reply_to_user_id</th>\n",
       "      <th>timestamp</th>\n",
       "      <th>source</th>\n",
       "      <th>text</th>\n",
       "      <th>retweeted_status_id</th>\n",
       "      <th>retweeted_status_user_id</th>\n",
       "      <th>retweeted_status_timestamp</th>\n",
       "      <th>expanded_urls</th>\n",
       "      <th>rating_numerator</th>\n",
       "      <th>rating_denominator</th>\n",
       "      <th>name</th>\n",
       "      <th>doggo</th>\n",
       "      <th>floofer</th>\n",
       "      <th>pupper</th>\n",
       "      <th>puppo</th>\n",
       "    </tr>\n",
       "  </thead>\n",
       "  <tbody>\n",
       "  </tbody>\n",
       "</table>\n",
       "</div>"
      ],
      "text/plain": [
       "Empty DataFrame\n",
       "Columns: [tweet_id, in_reply_to_status_id, in_reply_to_user_id, timestamp, source, text, retweeted_status_id, retweeted_status_user_id, retweeted_status_timestamp, expanded_urls, rating_numerator, rating_denominator, name, doggo, floofer, pupper, puppo]\n",
       "Index: []"
      ]
     },
     "execution_count": 23,
     "metadata": {},
     "output_type": "execute_result"
    }
   ],
   "source": [
    "cleaned_df_arc.query(\"doggo!='None' and floofer!='None'\")"
   ]
  },
  {
   "cell_type": "code",
   "execution_count": 24,
   "metadata": {
    "ExecuteTime": {
     "end_time": "2019-09-19T05:47:09.616930Z",
     "start_time": "2019-09-19T05:47:09.606138Z"
    }
   },
   "outputs": [
    {
     "data": {
      "text/html": [
       "<div>\n",
       "<style scoped>\n",
       "    .dataframe tbody tr th:only-of-type {\n",
       "        vertical-align: middle;\n",
       "    }\n",
       "\n",
       "    .dataframe tbody tr th {\n",
       "        vertical-align: top;\n",
       "    }\n",
       "\n",
       "    .dataframe thead th {\n",
       "        text-align: right;\n",
       "    }\n",
       "</style>\n",
       "<table border=\"1\" class=\"dataframe\">\n",
       "  <thead>\n",
       "    <tr style=\"text-align: right;\">\n",
       "      <th></th>\n",
       "      <th>tweet_id</th>\n",
       "      <th>in_reply_to_status_id</th>\n",
       "      <th>in_reply_to_user_id</th>\n",
       "      <th>timestamp</th>\n",
       "      <th>source</th>\n",
       "      <th>text</th>\n",
       "      <th>retweeted_status_id</th>\n",
       "      <th>retweeted_status_user_id</th>\n",
       "      <th>retweeted_status_timestamp</th>\n",
       "      <th>expanded_urls</th>\n",
       "      <th>rating_numerator</th>\n",
       "      <th>rating_denominator</th>\n",
       "      <th>name</th>\n",
       "      <th>doggo</th>\n",
       "      <th>floofer</th>\n",
       "      <th>pupper</th>\n",
       "      <th>puppo</th>\n",
       "    </tr>\n",
       "  </thead>\n",
       "  <tbody>\n",
       "  </tbody>\n",
       "</table>\n",
       "</div>"
      ],
      "text/plain": [
       "Empty DataFrame\n",
       "Columns: [tweet_id, in_reply_to_status_id, in_reply_to_user_id, timestamp, source, text, retweeted_status_id, retweeted_status_user_id, retweeted_status_timestamp, expanded_urls, rating_numerator, rating_denominator, name, doggo, floofer, pupper, puppo]\n",
       "Index: []"
      ]
     },
     "execution_count": 24,
     "metadata": {},
     "output_type": "execute_result"
    }
   ],
   "source": [
    "cleaned_df_arc.query(\"doggo!='None' and pupper!='None'\")"
   ]
  },
  {
   "cell_type": "code",
   "execution_count": 25,
   "metadata": {
    "ExecuteTime": {
     "end_time": "2019-09-19T05:47:09.629883Z",
     "start_time": "2019-09-19T05:47:09.618313Z"
    }
   },
   "outputs": [
    {
     "data": {
      "text/html": [
       "<div>\n",
       "<style scoped>\n",
       "    .dataframe tbody tr th:only-of-type {\n",
       "        vertical-align: middle;\n",
       "    }\n",
       "\n",
       "    .dataframe tbody tr th {\n",
       "        vertical-align: top;\n",
       "    }\n",
       "\n",
       "    .dataframe thead th {\n",
       "        text-align: right;\n",
       "    }\n",
       "</style>\n",
       "<table border=\"1\" class=\"dataframe\">\n",
       "  <thead>\n",
       "    <tr style=\"text-align: right;\">\n",
       "      <th></th>\n",
       "      <th>tweet_id</th>\n",
       "      <th>in_reply_to_status_id</th>\n",
       "      <th>in_reply_to_user_id</th>\n",
       "      <th>timestamp</th>\n",
       "      <th>source</th>\n",
       "      <th>text</th>\n",
       "      <th>retweeted_status_id</th>\n",
       "      <th>retweeted_status_user_id</th>\n",
       "      <th>retweeted_status_timestamp</th>\n",
       "      <th>expanded_urls</th>\n",
       "      <th>rating_numerator</th>\n",
       "      <th>rating_denominator</th>\n",
       "      <th>name</th>\n",
       "      <th>doggo</th>\n",
       "      <th>floofer</th>\n",
       "      <th>pupper</th>\n",
       "      <th>puppo</th>\n",
       "    </tr>\n",
       "  </thead>\n",
       "  <tbody>\n",
       "  </tbody>\n",
       "</table>\n",
       "</div>"
      ],
      "text/plain": [
       "Empty DataFrame\n",
       "Columns: [tweet_id, in_reply_to_status_id, in_reply_to_user_id, timestamp, source, text, retweeted_status_id, retweeted_status_user_id, retweeted_status_timestamp, expanded_urls, rating_numerator, rating_denominator, name, doggo, floofer, pupper, puppo]\n",
       "Index: []"
      ]
     },
     "execution_count": 25,
     "metadata": {},
     "output_type": "execute_result"
    }
   ],
   "source": [
    "cleaned_df_arc.query(\"doggo!='None' and puppo!='None'\")"
   ]
  },
  {
   "cell_type": "code",
   "execution_count": 26,
   "metadata": {
    "ExecuteTime": {
     "end_time": "2019-09-19T05:47:09.647760Z",
     "start_time": "2019-09-19T05:47:09.632231Z"
    }
   },
   "outputs": [
    {
     "data": {
      "text/html": [
       "<div>\n",
       "<style scoped>\n",
       "    .dataframe tbody tr th:only-of-type {\n",
       "        vertical-align: middle;\n",
       "    }\n",
       "\n",
       "    .dataframe tbody tr th {\n",
       "        vertical-align: top;\n",
       "    }\n",
       "\n",
       "    .dataframe thead th {\n",
       "        text-align: right;\n",
       "    }\n",
       "</style>\n",
       "<table border=\"1\" class=\"dataframe\">\n",
       "  <thead>\n",
       "    <tr style=\"text-align: right;\">\n",
       "      <th></th>\n",
       "      <th>tweet_id</th>\n",
       "      <th>in_reply_to_status_id</th>\n",
       "      <th>in_reply_to_user_id</th>\n",
       "      <th>timestamp</th>\n",
       "      <th>source</th>\n",
       "      <th>text</th>\n",
       "      <th>retweeted_status_id</th>\n",
       "      <th>retweeted_status_user_id</th>\n",
       "      <th>retweeted_status_timestamp</th>\n",
       "      <th>expanded_urls</th>\n",
       "      <th>rating_numerator</th>\n",
       "      <th>rating_denominator</th>\n",
       "      <th>name</th>\n",
       "      <th>doggo</th>\n",
       "      <th>floofer</th>\n",
       "      <th>pupper</th>\n",
       "      <th>puppo</th>\n",
       "    </tr>\n",
       "  </thead>\n",
       "  <tbody>\n",
       "  </tbody>\n",
       "</table>\n",
       "</div>"
      ],
      "text/plain": [
       "Empty DataFrame\n",
       "Columns: [tweet_id, in_reply_to_status_id, in_reply_to_user_id, timestamp, source, text, retweeted_status_id, retweeted_status_user_id, retweeted_status_timestamp, expanded_urls, rating_numerator, rating_denominator, name, doggo, floofer, pupper, puppo]\n",
       "Index: []"
      ]
     },
     "execution_count": 26,
     "metadata": {},
     "output_type": "execute_result"
    }
   ],
   "source": [
    "cleaned_df_arc.query(\"floofer!='None' and pupper!='None'\")"
   ]
  },
  {
   "cell_type": "code",
   "execution_count": 27,
   "metadata": {
    "ExecuteTime": {
     "end_time": "2019-09-19T05:47:09.662265Z",
     "start_time": "2019-09-19T05:47:09.649771Z"
    }
   },
   "outputs": [
    {
     "data": {
      "text/html": [
       "<div>\n",
       "<style scoped>\n",
       "    .dataframe tbody tr th:only-of-type {\n",
       "        vertical-align: middle;\n",
       "    }\n",
       "\n",
       "    .dataframe tbody tr th {\n",
       "        vertical-align: top;\n",
       "    }\n",
       "\n",
       "    .dataframe thead th {\n",
       "        text-align: right;\n",
       "    }\n",
       "</style>\n",
       "<table border=\"1\" class=\"dataframe\">\n",
       "  <thead>\n",
       "    <tr style=\"text-align: right;\">\n",
       "      <th></th>\n",
       "      <th>tweet_id</th>\n",
       "      <th>in_reply_to_status_id</th>\n",
       "      <th>in_reply_to_user_id</th>\n",
       "      <th>timestamp</th>\n",
       "      <th>source</th>\n",
       "      <th>text</th>\n",
       "      <th>retweeted_status_id</th>\n",
       "      <th>retweeted_status_user_id</th>\n",
       "      <th>retweeted_status_timestamp</th>\n",
       "      <th>expanded_urls</th>\n",
       "      <th>rating_numerator</th>\n",
       "      <th>rating_denominator</th>\n",
       "      <th>name</th>\n",
       "      <th>doggo</th>\n",
       "      <th>floofer</th>\n",
       "      <th>pupper</th>\n",
       "      <th>puppo</th>\n",
       "    </tr>\n",
       "  </thead>\n",
       "  <tbody>\n",
       "  </tbody>\n",
       "</table>\n",
       "</div>"
      ],
      "text/plain": [
       "Empty DataFrame\n",
       "Columns: [tweet_id, in_reply_to_status_id, in_reply_to_user_id, timestamp, source, text, retweeted_status_id, retweeted_status_user_id, retweeted_status_timestamp, expanded_urls, rating_numerator, rating_denominator, name, doggo, floofer, pupper, puppo]\n",
       "Index: []"
      ]
     },
     "execution_count": 27,
     "metadata": {},
     "output_type": "execute_result"
    }
   ],
   "source": [
    "cleaned_df_arc.query(\"floofer!='None' and puppo!='None'\")"
   ]
  },
  {
   "cell_type": "code",
   "execution_count": 28,
   "metadata": {
    "ExecuteTime": {
     "end_time": "2019-09-19T05:47:09.675446Z",
     "start_time": "2019-09-19T05:47:09.663800Z"
    }
   },
   "outputs": [
    {
     "data": {
      "text/html": [
       "<div>\n",
       "<style scoped>\n",
       "    .dataframe tbody tr th:only-of-type {\n",
       "        vertical-align: middle;\n",
       "    }\n",
       "\n",
       "    .dataframe tbody tr th {\n",
       "        vertical-align: top;\n",
       "    }\n",
       "\n",
       "    .dataframe thead th {\n",
       "        text-align: right;\n",
       "    }\n",
       "</style>\n",
       "<table border=\"1\" class=\"dataframe\">\n",
       "  <thead>\n",
       "    <tr style=\"text-align: right;\">\n",
       "      <th></th>\n",
       "      <th>tweet_id</th>\n",
       "      <th>in_reply_to_status_id</th>\n",
       "      <th>in_reply_to_user_id</th>\n",
       "      <th>timestamp</th>\n",
       "      <th>source</th>\n",
       "      <th>text</th>\n",
       "      <th>retweeted_status_id</th>\n",
       "      <th>retweeted_status_user_id</th>\n",
       "      <th>retweeted_status_timestamp</th>\n",
       "      <th>expanded_urls</th>\n",
       "      <th>rating_numerator</th>\n",
       "      <th>rating_denominator</th>\n",
       "      <th>name</th>\n",
       "      <th>doggo</th>\n",
       "      <th>floofer</th>\n",
       "      <th>pupper</th>\n",
       "      <th>puppo</th>\n",
       "    </tr>\n",
       "  </thead>\n",
       "  <tbody>\n",
       "  </tbody>\n",
       "</table>\n",
       "</div>"
      ],
      "text/plain": [
       "Empty DataFrame\n",
       "Columns: [tweet_id, in_reply_to_status_id, in_reply_to_user_id, timestamp, source, text, retweeted_status_id, retweeted_status_user_id, retweeted_status_timestamp, expanded_urls, rating_numerator, rating_denominator, name, doggo, floofer, pupper, puppo]\n",
       "Index: []"
      ]
     },
     "execution_count": 28,
     "metadata": {},
     "output_type": "execute_result"
    }
   ],
   "source": [
    "cleaned_df_arc.query(\"pupper!='None' and puppo!='None'\")"
   ]
  },
  {
   "cell_type": "markdown",
   "metadata": {},
   "source": [
    "##### 7. `twitter-archive-enhanced.csv`: 狗狗分类 `None` 未识别成 NaN\n",
    "\n",
    "##### 定义\n",
    "将狗狗分类是 `None` 的改成 NaN\n",
    "\n",
    "##### 代码"
   ]
  },
  {
   "cell_type": "code",
   "execution_count": 29,
   "metadata": {
    "ExecuteTime": {
     "end_time": "2019-09-19T05:47:09.695764Z",
     "start_time": "2019-09-19T05:47:09.677672Z"
    }
   },
   "outputs": [],
   "source": [
    "cleaned_df_arc.loc[cleaned_df_arc.query(\"doggo=='None'\").index, \"doggo\"] = np.nan\n",
    "cleaned_df_arc.loc[cleaned_df_arc.query(\"floofer=='None'\").index, \"floofer\"] = np.nan\n",
    "cleaned_df_arc.loc[cleaned_df_arc.query(\"pupper=='None'\").index, \"pupper\"] = np.nan\n",
    "cleaned_df_arc.loc[cleaned_df_arc.query(\"puppo=='None'\").index, \"puppo\"] = np.nan"
   ]
  },
  {
   "cell_type": "markdown",
   "metadata": {},
   "source": [
    "##### 测试"
   ]
  },
  {
   "cell_type": "code",
   "execution_count": 30,
   "metadata": {
    "ExecuteTime": {
     "end_time": "2019-09-19T05:47:09.703138Z",
     "start_time": "2019-09-19T05:47:09.697262Z"
    }
   },
   "outputs": [
    {
     "data": {
      "text/plain": [
       "0"
      ]
     },
     "execution_count": 30,
     "metadata": {},
     "output_type": "execute_result"
    }
   ],
   "source": [
    "len(cleaned_df_arc.query(\"doggo=='None'\"))"
   ]
  },
  {
   "cell_type": "code",
   "execution_count": 31,
   "metadata": {
    "ExecuteTime": {
     "end_time": "2019-09-19T05:47:09.710987Z",
     "start_time": "2019-09-19T05:47:09.705081Z"
    }
   },
   "outputs": [
    {
     "data": {
      "text/plain": [
       "0"
      ]
     },
     "execution_count": 31,
     "metadata": {},
     "output_type": "execute_result"
    }
   ],
   "source": [
    "len(cleaned_df_arc.query(\"floofer=='None'\"))"
   ]
  },
  {
   "cell_type": "code",
   "execution_count": 32,
   "metadata": {
    "ExecuteTime": {
     "end_time": "2019-09-19T05:47:09.720616Z",
     "start_time": "2019-09-19T05:47:09.713314Z"
    }
   },
   "outputs": [
    {
     "data": {
      "text/plain": [
       "0"
      ]
     },
     "execution_count": 32,
     "metadata": {},
     "output_type": "execute_result"
    }
   ],
   "source": [
    "len(cleaned_df_arc.query(\"pupper=='None'\"))"
   ]
  },
  {
   "cell_type": "code",
   "execution_count": 33,
   "metadata": {
    "ExecuteTime": {
     "end_time": "2019-09-19T05:47:09.729121Z",
     "start_time": "2019-09-19T05:47:09.722646Z"
    }
   },
   "outputs": [
    {
     "data": {
      "text/plain": [
       "0"
      ]
     },
     "execution_count": 33,
     "metadata": {},
     "output_type": "execute_result"
    }
   ],
   "source": [
    "len(cleaned_df_arc.query(\"puppo=='None'\"))"
   ]
  },
  {
   "cell_type": "markdown",
   "metadata": {},
   "source": [
    "##### 8. `twitter-archive-enhanced.csv`: 清理转发的 Tweet\n",
    "\n",
    "##### 定义\n",
    "删除转发的 Tweet\n",
    "\n",
    "##### 代码"
   ]
  },
  {
   "cell_type": "code",
   "execution_count": 34,
   "metadata": {
    "ExecuteTime": {
     "end_time": "2019-09-19T05:47:09.737621Z",
     "start_time": "2019-09-19T05:47:09.730983Z"
    }
   },
   "outputs": [],
   "source": [
    "cleaned_df_arc = cleaned_df_arc.query('retweeted_status_id==\"Nan\"')"
   ]
  },
  {
   "cell_type": "markdown",
   "metadata": {},
   "source": [
    "##### 测试"
   ]
  },
  {
   "cell_type": "code",
   "execution_count": 35,
   "metadata": {
    "ExecuteTime": {
     "end_time": "2019-09-19T05:47:09.744931Z",
     "start_time": "2019-09-19T05:47:09.739280Z"
    }
   },
   "outputs": [
    {
     "data": {
      "text/plain": [
       "0"
      ]
     },
     "execution_count": 35,
     "metadata": {},
     "output_type": "execute_result"
    }
   ],
   "source": [
    "cleaned_df_arc['retweeted_status_id'].notnull().sum()"
   ]
  },
  {
   "cell_type": "markdown",
   "metadata": {},
   "source": [
    "#### 清洁度"
   ]
  },
  {
   "cell_type": "markdown",
   "metadata": {},
   "source": [
    "##### 1. 狗狗的 `Stage` 用了四列来表示（doggo, floofer, pupper, puppo）\n",
    "\n",
    "##### 定义\n",
    "将狗狗的 `Stage` 合并成一列\n",
    "\n",
    "##### 代码"
   ]
  },
  {
   "cell_type": "code",
   "execution_count": 36,
   "metadata": {
    "ExecuteTime": {
     "end_time": "2019-09-19T05:47:10.011788Z",
     "start_time": "2019-09-19T05:47:09.746892Z"
    }
   },
   "outputs": [],
   "source": [
    "stages = []\n",
    "for index, row in cleaned_df_arc.iterrows():\n",
    "    cat = np.nan\n",
    "    for stage in ['doggo', 'floofer', 'pupper', 'puppo']:\n",
    "        if row[stage] == stage:\n",
    "            cat = stage\n",
    "            break\n",
    "    stages.append(cat)\n",
    "cleaned_df_arc['stage'] = stages\n",
    "cleaned_df_arc['stage'] = cleaned_df_arc['stage'].astype('category')"
   ]
  },
  {
   "cell_type": "code",
   "execution_count": 37,
   "metadata": {
    "ExecuteTime": {
     "end_time": "2019-09-19T05:47:10.018914Z",
     "start_time": "2019-09-19T05:47:10.013399Z"
    }
   },
   "outputs": [
    {
     "data": {
      "text/plain": [
       "pupper     224\n",
       "doggo       87\n",
       "puppo       24\n",
       "floofer      9\n",
       "Name: stage, dtype: int64"
      ]
     },
     "execution_count": 37,
     "metadata": {},
     "output_type": "execute_result"
    }
   ],
   "source": [
    "cleaned_df_arc[\"stage\"].value_counts()"
   ]
  },
  {
   "cell_type": "code",
   "execution_count": 38,
   "metadata": {
    "ExecuteTime": {
     "end_time": "2019-09-19T05:47:10.040952Z",
     "start_time": "2019-09-19T05:47:10.020686Z"
    }
   },
   "outputs": [
    {
     "data": {
      "text/html": [
       "<div>\n",
       "<style scoped>\n",
       "    .dataframe tbody tr th:only-of-type {\n",
       "        vertical-align: middle;\n",
       "    }\n",
       "\n",
       "    .dataframe tbody tr th {\n",
       "        vertical-align: top;\n",
       "    }\n",
       "\n",
       "    .dataframe thead th {\n",
       "        text-align: right;\n",
       "    }\n",
       "</style>\n",
       "<table border=\"1\" class=\"dataframe\">\n",
       "  <thead>\n",
       "    <tr style=\"text-align: right;\">\n",
       "      <th></th>\n",
       "      <th>tweet_id</th>\n",
       "      <th>in_reply_to_status_id</th>\n",
       "      <th>in_reply_to_user_id</th>\n",
       "      <th>timestamp</th>\n",
       "      <th>source</th>\n",
       "      <th>text</th>\n",
       "      <th>retweeted_status_id</th>\n",
       "      <th>retweeted_status_user_id</th>\n",
       "      <th>retweeted_status_timestamp</th>\n",
       "      <th>expanded_urls</th>\n",
       "      <th>rating_numerator</th>\n",
       "      <th>rating_denominator</th>\n",
       "      <th>name</th>\n",
       "      <th>doggo</th>\n",
       "      <th>floofer</th>\n",
       "      <th>pupper</th>\n",
       "      <th>puppo</th>\n",
       "      <th>stage</th>\n",
       "    </tr>\n",
       "  </thead>\n",
       "  <tbody>\n",
       "    <tr>\n",
       "      <th>29</th>\n",
       "      <td>886366144734445568</td>\n",
       "      <td>NaN</td>\n",
       "      <td>NaN</td>\n",
       "      <td>2017-07-15 23:25:31 +0000</td>\n",
       "      <td>&lt;a href=\"http://twitter.com/download/iphone\" r...</td>\n",
       "      <td>This is Roscoe. Another pupper fallen victim t...</td>\n",
       "      <td>NaN</td>\n",
       "      <td>NaN</td>\n",
       "      <td>NaN</td>\n",
       "      <td>https://twitter.com/dog_rates/status/886366144...</td>\n",
       "      <td>12.0</td>\n",
       "      <td>10</td>\n",
       "      <td>Roscoe</td>\n",
       "      <td>NaN</td>\n",
       "      <td>NaN</td>\n",
       "      <td>pupper</td>\n",
       "      <td>NaN</td>\n",
       "      <td>pupper</td>\n",
       "    </tr>\n",
       "  </tbody>\n",
       "</table>\n",
       "</div>"
      ],
      "text/plain": [
       "              tweet_id  in_reply_to_status_id  in_reply_to_user_id  \\\n",
       "29  886366144734445568                    NaN                  NaN   \n",
       "\n",
       "                    timestamp  \\\n",
       "29  2017-07-15 23:25:31 +0000   \n",
       "\n",
       "                                               source  \\\n",
       "29  <a href=\"http://twitter.com/download/iphone\" r...   \n",
       "\n",
       "                                                 text  retweeted_status_id  \\\n",
       "29  This is Roscoe. Another pupper fallen victim t...                  NaN   \n",
       "\n",
       "    retweeted_status_user_id retweeted_status_timestamp  \\\n",
       "29                       NaN                        NaN   \n",
       "\n",
       "                                        expanded_urls  rating_numerator  \\\n",
       "29  https://twitter.com/dog_rates/status/886366144...              12.0   \n",
       "\n",
       "    rating_denominator    name doggo floofer  pupper puppo   stage  \n",
       "29                  10  Roscoe   NaN     NaN  pupper   NaN  pupper  "
      ]
     },
     "execution_count": 38,
     "metadata": {},
     "output_type": "execute_result"
    }
   ],
   "source": [
    "cleaned_df_arc.query(\"tweet_id=='886366144734445568'\")\n",
    "# cleaned_df_arc.head()\n",
    "# cleaned_df_arc.dtypes"
   ]
  },
  {
   "cell_type": "markdown",
   "metadata": {},
   "source": [
    "##### 2. 三个数据集都是以 `tweet_id` 为观察单位，需要合并成一个表"
   ]
  },
  {
   "cell_type": "code",
   "execution_count": 39,
   "metadata": {
    "ExecuteTime": {
     "end_time": "2019-09-19T05:47:10.065429Z",
     "start_time": "2019-09-19T05:47:10.042922Z"
    }
   },
   "outputs": [],
   "source": [
    "# 合并成一个 DataFrame\n",
    "# 这里对数据集进行 `merge` 时选择 `inner` 方式，这样就可以删掉没有图片的推文\n",
    "cleaned_df_arc['tweet_id'] = cleaned_df_arc['tweet_id'].astype('int64')\n",
    "cleaned_df_api.rename(columns={'id': 'tweet_id'}, inplace=True)\n",
    "merged_df = cleaned_df_arc[['tweet_id', 'timestamp', 'text', 'rating_numerator', 'rating_denominator', 'name', 'stage']].merge(\n",
    "    cleaned_df_api[['tweet_id', 'favorite_count', 'retweet_count']], on = 'tweet_id'\n",
    ").merge(\n",
    "    cleaned_df_img[['tweet_id', 'p1', 'p1_conf', 'p1_dog']], on = 'tweet_id'\n",
    ")"
   ]
  },
  {
   "cell_type": "code",
   "execution_count": 40,
   "metadata": {
    "ExecuteTime": {
     "end_time": "2019-09-19T05:47:10.075234Z",
     "start_time": "2019-09-19T05:47:10.067774Z"
    }
   },
   "outputs": [
    {
     "name": "stdout",
     "output_type": "stream",
     "text": [
      "0\n",
      "0\n"
     ]
    }
   ],
   "source": [
    "# 检查要点\n",
    "# 1. 不包含转发的推文\n",
    "# 2. 不包含没有图片的推文\n",
    "print(merged_df['text'].str.contains('RT @').sum())\n",
    "print(merged_df['p1'].isnull().sum())"
   ]
  },
  {
   "cell_type": "code",
   "execution_count": 41,
   "metadata": {
    "ExecuteTime": {
     "end_time": "2019-09-19T05:47:10.095972Z",
     "start_time": "2019-09-19T05:47:10.077329Z"
    }
   },
   "outputs": [
    {
     "data": {
      "text/html": [
       "<div>\n",
       "<style scoped>\n",
       "    .dataframe tbody tr th:only-of-type {\n",
       "        vertical-align: middle;\n",
       "    }\n",
       "\n",
       "    .dataframe tbody tr th {\n",
       "        vertical-align: top;\n",
       "    }\n",
       "\n",
       "    .dataframe thead th {\n",
       "        text-align: right;\n",
       "    }\n",
       "</style>\n",
       "<table border=\"1\" class=\"dataframe\">\n",
       "  <thead>\n",
       "    <tr style=\"text-align: right;\">\n",
       "      <th></th>\n",
       "      <th>tweet_id</th>\n",
       "      <th>timestamp</th>\n",
       "      <th>text</th>\n",
       "      <th>rating_numerator</th>\n",
       "      <th>rating_denominator</th>\n",
       "      <th>name</th>\n",
       "      <th>stage</th>\n",
       "      <th>favorite_count</th>\n",
       "      <th>retweet_count</th>\n",
       "      <th>p1</th>\n",
       "      <th>p1_conf</th>\n",
       "      <th>p1_dog</th>\n",
       "    </tr>\n",
       "  </thead>\n",
       "  <tbody>\n",
       "    <tr>\n",
       "      <th>946</th>\n",
       "      <td>713900603437621249</td>\n",
       "      <td>2016-03-27 01:29:02 +0000</td>\n",
       "      <td>Happy Saturday here's 9 puppers on a bench. 99...</td>\n",
       "      <td>11.0</td>\n",
       "      <td>10</td>\n",
       "      <td>NaN</td>\n",
       "      <td>NaN</td>\n",
       "      <td>3049</td>\n",
       "      <td>827</td>\n",
       "      <td>golden_retriever</td>\n",
       "      <td>0.371816</td>\n",
       "      <td>True</td>\n",
       "    </tr>\n",
       "  </tbody>\n",
       "</table>\n",
       "</div>"
      ],
      "text/plain": [
       "               tweet_id                  timestamp  \\\n",
       "946  713900603437621249  2016-03-27 01:29:02 +0000   \n",
       "\n",
       "                                                  text  rating_numerator  \\\n",
       "946  Happy Saturday here's 9 puppers on a bench. 99...              11.0   \n",
       "\n",
       "     rating_denominator name stage  favorite_count  retweet_count  \\\n",
       "946                  10  NaN   NaN            3049            827   \n",
       "\n",
       "                   p1   p1_conf  p1_dog  \n",
       "946  golden_retriever  0.371816    True  "
      ]
     },
     "execution_count": 41,
     "metadata": {},
     "output_type": "execute_result"
    }
   ],
   "source": [
    "merged_df.query('tweet_id==\"713900603437621249\"')"
   ]
  },
  {
   "cell_type": "markdown",
   "metadata": {},
   "source": [
    "##### 3. 将数据集设置成时序索引"
   ]
  },
  {
   "cell_type": "code",
   "execution_count": 42,
   "metadata": {
    "ExecuteTime": {
     "end_time": "2019-09-19T05:47:10.110797Z",
     "start_time": "2019-09-19T05:47:10.098079Z"
    }
   },
   "outputs": [
    {
     "data": {
      "text/plain": [
       "DatetimeIndex(['2017-08-01 16:23:56+00:00', '2017-08-01 00:17:27+00:00',\n",
       "               '2017-07-31 00:18:03+00:00', '2017-07-30 15:58:51+00:00',\n",
       "               '2017-07-29 16:00:24+00:00', '2017-07-29 00:08:17+00:00',\n",
       "               '2017-07-28 16:27:12+00:00', '2017-07-28 00:22:40+00:00',\n",
       "               '2017-07-27 16:25:51+00:00', '2017-07-26 15:59:51+00:00',\n",
       "               ...\n",
       "               '2015-11-16 01:01:59+00:00', '2015-11-16 00:55:59+00:00',\n",
       "               '2015-11-16 00:49:46+00:00', '2015-11-16 00:35:11+00:00',\n",
       "               '2015-11-16 00:30:50+00:00', '2015-11-16 00:24:50+00:00',\n",
       "               '2015-11-16 00:04:52+00:00', '2015-11-15 23:21:54+00:00',\n",
       "               '2015-11-15 23:05:30+00:00', '2015-11-15 22:32:08+00:00'],\n",
       "              dtype='datetime64[ns, UTC]', name='datetime', length=1994, freq=None)"
      ]
     },
     "execution_count": 42,
     "metadata": {},
     "output_type": "execute_result"
    }
   ],
   "source": [
    "merged_df['datetime'] = pd.to_datetime(merged_df['timestamp'], utc=True)\n",
    "merged_df = merged_df.set_index('datetime')\n",
    "merged_df.drop(['timestamp'], axis=1, inplace=True)\n",
    "merged_df.index"
   ]
  },
  {
   "cell_type": "code",
   "execution_count": 43,
   "metadata": {
    "ExecuteTime": {
     "end_time": "2019-09-19T05:47:10.125093Z",
     "start_time": "2019-09-19T05:47:10.112722Z"
    }
   },
   "outputs": [
    {
     "name": "stdout",
     "output_type": "stream",
     "text": [
      "<class 'pandas.core.frame.DataFrame'>\n",
      "DatetimeIndex: 1994 entries, 2017-08-01 16:23:56+00:00 to 2015-11-15 22:32:08+00:00\n",
      "Data columns (total 11 columns):\n",
      "tweet_id              1994 non-null int64\n",
      "text                  1994 non-null object\n",
      "rating_numerator      1993 non-null float64\n",
      "rating_denominator    1994 non-null int64\n",
      "name                  1350 non-null object\n",
      "stage                 306 non-null category\n",
      "favorite_count        1994 non-null int64\n",
      "retweet_count         1994 non-null int64\n",
      "p1                    1994 non-null object\n",
      "p1_conf               1994 non-null float64\n",
      "p1_dog                1994 non-null bool\n",
      "dtypes: bool(1), category(1), float64(2), int64(4), object(3)\n",
      "memory usage: 159.9+ KB\n"
     ]
    }
   ],
   "source": [
    "# pd.to_datetime(cleaned_df_arc['timestamp'])\n",
    "# type(cleaned_df_arc['timestamp'][0])\n",
    "# pd.to_datetime(cleaned_df_arc['timestamp'][1])\n",
    "# pd.to_datetime(cleaned_df_arc.timestamp)\n",
    "merged_df.info()"
   ]
  },
  {
   "cell_type": "code",
   "execution_count": 44,
   "metadata": {
    "ExecuteTime": {
     "end_time": "2019-09-19T05:47:10.168384Z",
     "start_time": "2019-09-19T05:47:10.127544Z"
    }
   },
   "outputs": [],
   "source": [
    "# 保存到 CSV 文件\n",
    "merged_df.to_csv('cleaned_tweets.csv')"
   ]
  },
  {
   "cell_type": "code",
   "execution_count": 45,
   "metadata": {
    "ExecuteTime": {
     "end_time": "2019-09-19T05:47:10.195581Z",
     "start_time": "2019-09-19T05:47:10.170099Z"
    }
   },
   "outputs": [
    {
     "data": {
      "text/html": [
       "<div>\n",
       "<style scoped>\n",
       "    .dataframe tbody tr th:only-of-type {\n",
       "        vertical-align: middle;\n",
       "    }\n",
       "\n",
       "    .dataframe tbody tr th {\n",
       "        vertical-align: top;\n",
       "    }\n",
       "\n",
       "    .dataframe thead th {\n",
       "        text-align: right;\n",
       "    }\n",
       "</style>\n",
       "<table border=\"1\" class=\"dataframe\">\n",
       "  <thead>\n",
       "    <tr style=\"text-align: right;\">\n",
       "      <th></th>\n",
       "      <th>tweet_id</th>\n",
       "      <th>text</th>\n",
       "      <th>rating_numerator</th>\n",
       "      <th>rating_denominator</th>\n",
       "      <th>name</th>\n",
       "      <th>stage</th>\n",
       "      <th>favorite_count</th>\n",
       "      <th>retweet_count</th>\n",
       "      <th>p1</th>\n",
       "      <th>p1_conf</th>\n",
       "      <th>p1_dog</th>\n",
       "    </tr>\n",
       "    <tr>\n",
       "      <th>datetime</th>\n",
       "      <th></th>\n",
       "      <th></th>\n",
       "      <th></th>\n",
       "      <th></th>\n",
       "      <th></th>\n",
       "      <th></th>\n",
       "      <th></th>\n",
       "      <th></th>\n",
       "      <th></th>\n",
       "      <th></th>\n",
       "      <th></th>\n",
       "    </tr>\n",
       "  </thead>\n",
       "  <tbody>\n",
       "    <tr>\n",
       "      <th>2017-08-01 16:23:56+00:00</th>\n",
       "      <td>892420643555336193</td>\n",
       "      <td>This is Phineas. He's a mystical boy. Only eve...</td>\n",
       "      <td>13.0</td>\n",
       "      <td>10</td>\n",
       "      <td>Phineas</td>\n",
       "      <td>NaN</td>\n",
       "      <td>39492</td>\n",
       "      <td>8842</td>\n",
       "      <td>orange</td>\n",
       "      <td>0.097049</td>\n",
       "      <td>False</td>\n",
       "    </tr>\n",
       "    <tr>\n",
       "      <th>2017-08-01 00:17:27+00:00</th>\n",
       "      <td>892177421306343426</td>\n",
       "      <td>This is Tilly. She's just checking pup on you....</td>\n",
       "      <td>13.0</td>\n",
       "      <td>10</td>\n",
       "      <td>Tilly</td>\n",
       "      <td>NaN</td>\n",
       "      <td>33786</td>\n",
       "      <td>6480</td>\n",
       "      <td>Chihuahua</td>\n",
       "      <td>0.323581</td>\n",
       "      <td>True</td>\n",
       "    </tr>\n",
       "    <tr>\n",
       "      <th>2017-07-31 00:18:03+00:00</th>\n",
       "      <td>891815181378084864</td>\n",
       "      <td>This is Archie. He is a rare Norwegian Pouncin...</td>\n",
       "      <td>12.0</td>\n",
       "      <td>10</td>\n",
       "      <td>Archie</td>\n",
       "      <td>NaN</td>\n",
       "      <td>25445</td>\n",
       "      <td>4301</td>\n",
       "      <td>Chihuahua</td>\n",
       "      <td>0.716012</td>\n",
       "      <td>True</td>\n",
       "    </tr>\n",
       "    <tr>\n",
       "      <th>2017-07-30 15:58:51+00:00</th>\n",
       "      <td>891689557279858688</td>\n",
       "      <td>This is Darla. She commenced a snooze mid meal...</td>\n",
       "      <td>13.0</td>\n",
       "      <td>10</td>\n",
       "      <td>Darla</td>\n",
       "      <td>NaN</td>\n",
       "      <td>42863</td>\n",
       "      <td>8925</td>\n",
       "      <td>paper_towel</td>\n",
       "      <td>0.170278</td>\n",
       "      <td>False</td>\n",
       "    </tr>\n",
       "    <tr>\n",
       "      <th>2017-07-29 16:00:24+00:00</th>\n",
       "      <td>891327558926688256</td>\n",
       "      <td>This is Franklin. He would like you to stop ca...</td>\n",
       "      <td>12.0</td>\n",
       "      <td>10</td>\n",
       "      <td>Franklin</td>\n",
       "      <td>NaN</td>\n",
       "      <td>41016</td>\n",
       "      <td>9721</td>\n",
       "      <td>basset</td>\n",
       "      <td>0.555712</td>\n",
       "      <td>True</td>\n",
       "    </tr>\n",
       "  </tbody>\n",
       "</table>\n",
       "</div>"
      ],
      "text/plain": [
       "                                     tweet_id  \\\n",
       "datetime                                        \n",
       "2017-08-01 16:23:56+00:00  892420643555336193   \n",
       "2017-08-01 00:17:27+00:00  892177421306343426   \n",
       "2017-07-31 00:18:03+00:00  891815181378084864   \n",
       "2017-07-30 15:58:51+00:00  891689557279858688   \n",
       "2017-07-29 16:00:24+00:00  891327558926688256   \n",
       "\n",
       "                                                                        text  \\\n",
       "datetime                                                                       \n",
       "2017-08-01 16:23:56+00:00  This is Phineas. He's a mystical boy. Only eve...   \n",
       "2017-08-01 00:17:27+00:00  This is Tilly. She's just checking pup on you....   \n",
       "2017-07-31 00:18:03+00:00  This is Archie. He is a rare Norwegian Pouncin...   \n",
       "2017-07-30 15:58:51+00:00  This is Darla. She commenced a snooze mid meal...   \n",
       "2017-07-29 16:00:24+00:00  This is Franklin. He would like you to stop ca...   \n",
       "\n",
       "                           rating_numerator  rating_denominator      name  \\\n",
       "datetime                                                                    \n",
       "2017-08-01 16:23:56+00:00              13.0                  10   Phineas   \n",
       "2017-08-01 00:17:27+00:00              13.0                  10     Tilly   \n",
       "2017-07-31 00:18:03+00:00              12.0                  10    Archie   \n",
       "2017-07-30 15:58:51+00:00              13.0                  10     Darla   \n",
       "2017-07-29 16:00:24+00:00              12.0                  10  Franklin   \n",
       "\n",
       "                          stage  favorite_count  retweet_count           p1  \\\n",
       "datetime                                                                      \n",
       "2017-08-01 16:23:56+00:00   NaN           39492           8842       orange   \n",
       "2017-08-01 00:17:27+00:00   NaN           33786           6480    Chihuahua   \n",
       "2017-07-31 00:18:03+00:00   NaN           25445           4301    Chihuahua   \n",
       "2017-07-30 15:58:51+00:00   NaN           42863           8925  paper_towel   \n",
       "2017-07-29 16:00:24+00:00   NaN           41016           9721       basset   \n",
       "\n",
       "                            p1_conf  p1_dog  \n",
       "datetime                                     \n",
       "2017-08-01 16:23:56+00:00  0.097049   False  \n",
       "2017-08-01 00:17:27+00:00  0.323581    True  \n",
       "2017-07-31 00:18:03+00:00  0.716012    True  \n",
       "2017-07-30 15:58:51+00:00  0.170278   False  \n",
       "2017-07-29 16:00:24+00:00  0.555712    True  "
      ]
     },
     "execution_count": 45,
     "metadata": {},
     "output_type": "execute_result"
    }
   ],
   "source": [
    "df = pd.read_csv('cleaned_tweets.csv', index_col = 'datetime')\n",
    "df.head(5)"
   ]
  },
  {
   "cell_type": "markdown",
   "metadata": {},
   "source": [
    "## 数据探索分析"
   ]
  },
  {
   "cell_type": "code",
   "execution_count": 46,
   "metadata": {
    "ExecuteTime": {
     "end_time": "2019-09-19T05:47:10.401841Z",
     "start_time": "2019-09-19T05:47:10.197088Z"
    }
   },
   "outputs": [
    {
     "name": "stdout",
     "output_type": "stream",
     "text": [
      "<class 'pandas.core.frame.DataFrame'>\n",
      "DatetimeIndex: 1994 entries, 2017-08-01 16:23:56+00:00 to 2015-11-15 22:32:08+00:00\n",
      "Data columns (total 11 columns):\n",
      "tweet_id              1994 non-null int64\n",
      "text                  1994 non-null object\n",
      "rating_numerator      1993 non-null float64\n",
      "rating_denominator    1994 non-null int64\n",
      "name                  1350 non-null object\n",
      "stage                 306 non-null object\n",
      "favorite_count        1994 non-null int64\n",
      "retweet_count         1994 non-null int64\n",
      "p1                    1994 non-null object\n",
      "p1_conf               1994 non-null float64\n",
      "p1_dog                1994 non-null bool\n",
      "dtypes: bool(1), float64(2), int64(4), object(4)\n",
      "memory usage: 173.3+ KB\n"
     ]
    }
   ],
   "source": [
    "import matplotlib.pyplot as plt\n",
    "from pandas.plotting import scatter_matrix\n",
    "\n",
    "df = pd.read_csv('cleaned_tweets.csv', index_col = 'datetime', parse_dates=True)\n",
    "df.info()"
   ]
  },
  {
   "cell_type": "code",
   "execution_count": 47,
   "metadata": {
    "ExecuteTime": {
     "end_time": "2019-09-19T05:47:11.790821Z",
     "start_time": "2019-09-19T05:47:10.404051Z"
    }
   },
   "outputs": [
    {
     "data": {
      "image/png": "[encoded data removed]",
      "text/plain": [
       "<Figure size 864x864 with 9 Axes>"
      ]
     },
     "metadata": {
      "needs_background": "light"
     },
     "output_type": "display_data"
    }
   ],
   "source": [
    "# 导师意见\n",
    "# `rating_denominator` 统一为 10，对于这样的常数，没有必要验证与其他变量的线性相关\n",
    "lis = ['rating_numerator', 'favorite_count', 'retweet_count']\n",
    "scatter_matrix(df[lis], figsize=(12, 12), diagonal='kde');"
   ]
  },
  {
   "cell_type": "code",
   "execution_count": 48,
   "metadata": {
    "ExecuteTime": {
     "end_time": "2019-09-19T05:47:14.075338Z",
     "start_time": "2019-09-19T05:47:11.792820Z"
    }
   },
   "outputs": [
    {
     "data": {
      "text/plain": [
       "<matplotlib.axes._subplots.AxesSubplot at 0x11e627dd8>"
      ]
     },
     "execution_count": 48,
     "metadata": {},
     "output_type": "execute_result"
    },
    {
     "data": {
      "image/png": "[encoded data removed]",
      "text/plain": [
       "<Figure size 1080x432 with 6 Axes>"
      ]
     },
     "metadata": {
      "needs_background": "light"
     },
     "output_type": "display_data"
    },
    {
     "data": {
      "image/png": "[encoded data removed]",
      "text/plain": [
       "<Figure size 1080x288 with 1 Axes>"
      ]
     },
     "metadata": {
      "needs_background": "light"
     },
     "output_type": "display_data"
    }
   ],
   "source": [
    "df.plot(subplots=True, figsize=(15, 6))\n",
    "df.plot(y=['retweet_count', 'favorite_count'], figsize=(15,4))"
   ]
  },
  {
   "cell_type": "code",
   "execution_count": 49,
   "metadata": {
    "ExecuteTime": {
     "end_time": "2019-09-19T05:47:14.376314Z",
     "start_time": "2019-09-19T05:47:14.077141Z"
    }
   },
   "outputs": [
    {
     "name": "stderr",
     "output_type": "stream",
     "text": [
      "/Users/xuncheng/.anaconda3/lib/python3.7/site-packages/pandas/core/arrays/datetimes.py:1172: UserWarning: Converting to PeriodArray/Index representation will drop timezone information.\n",
      "  \"will drop timezone information.\", UserWarning)\n"
     ]
    },
    {
     "data": {
      "text/plain": [
       "<matplotlib.axes._subplots.AxesSubplot at 0x11e9fd828>"
      ]
     },
     "execution_count": 49,
     "metadata": {},
     "output_type": "execute_result"
    },
    {
     "data": {
      "image/png": "[encoded data removed]",
      "text/plain": [
       "<Figure size 1080x288 with 1 Axes>"
      ]
     },
     "metadata": {
      "needs_background": "light"
     },
     "output_type": "display_data"
    }
   ],
   "source": [
    "df[['favorite_count', 'retweet_count']].resample(\"1w\").median().plot(figsize=(15,4))"
   ]
  },
  {
   "cell_type": "code",
   "execution_count": 50,
   "metadata": {
    "ExecuteTime": {
     "end_time": "2019-09-19T05:47:14.645864Z",
     "start_time": "2019-09-19T05:47:14.377966Z"
    }
   },
   "outputs": [
    {
     "data": {
      "text/plain": [
       "<matplotlib.axes._subplots.AxesSubplot at 0x11b1bcb00>"
      ]
     },
     "execution_count": 50,
     "metadata": {},
     "output_type": "execute_result"
    },
    {
     "data": {
      "image/png": "[encoded data removed]",
      "text/plain": [
       "<Figure size 1080x288 with 1 Axes>"
      ]
     },
     "metadata": {
      "needs_background": "light"
     },
     "output_type": "display_data"
    }
   ],
   "source": [
    "df[['favorite_count', 'retweet_count']].rolling(30).median().plot(figsize=(15,4))"
   ]
  },
  {
   "cell_type": "markdown",
   "metadata": {},
   "source": [
    "## 得出结论"
   ]
  },
  {
   "cell_type": "markdown",
   "metadata": {},
   "source": [
    "### `favorite_count` 和 `retweet_count` 的时序分析"
   ]
  },
  {
   "cell_type": "code",
   "execution_count": 51,
   "metadata": {
    "ExecuteTime": {
     "end_time": "2019-09-19T05:47:14.939195Z",
     "start_time": "2019-09-19T05:47:14.647581Z"
    }
   },
   "outputs": [
    {
     "data": {
      "text/plain": [
       "Text(0, 0.5, 'Counts')"
      ]
     },
     "execution_count": 51,
     "metadata": {},
     "output_type": "execute_result"
    },
    {
     "data": {
      "image/png": "[encoded data removed]",
      "text/plain": [
       "<Figure size 1080x288 with 1 Axes>"
      ]
     },
     "metadata": {
      "needs_background": "light"
     },
     "output_type": "display_data"
    }
   ],
   "source": [
    "df[['favorite_count', 'retweet_count']].rolling(30).median().plot(figsize=(15,4))\n",
    "\n",
    "plt.title('Favorites count and retweets count comparison on time series', color='r', fontsize=16)\n",
    "plt.xlabel('Time series', color='b', fontsize=14)\n",
    "plt.ylabel('Counts', color='b', fontsize=14)"
   ]
  },
  {
   "cell_type": "markdown",
   "metadata": {},
   "source": [
    "- 2016年7月之前的喜欢数大概是转发数的两倍\n",
    "- 2016年7月后喜欢数出现了爆发式增长，同时转发数量持续缓慢增长\n",
    "- twitter 的增长很快\n",
    "- 人们更愿意用点赞的方式来进行 social，而非成本更高的转发"
   ]
  },
  {
   "cell_type": "markdown",
   "metadata": {},
   "source": [
    "### `favorite_count` 和 `retweet_count` 相关性分析"
   ]
  },
  {
   "cell_type": "code",
   "execution_count": 52,
   "metadata": {
    "ExecuteTime": {
     "end_time": "2019-09-19T05:47:15.235321Z",
     "start_time": "2019-09-19T05:47:14.941403Z"
    }
   },
   "outputs": [
    {
     "name": "stderr",
     "output_type": "stream",
     "text": [
      "/Users/xuncheng/.anaconda3/lib/python3.7/site-packages/pandas/core/generic.py:407: FutureWarning: The default of the 'keep_tz' keyword will change to True in a future release. You can set 'keep_tz=True' to obtain the future behaviour and silence this warning.\n",
      "  s = level_values.to_series()\n",
      "/Users/xuncheng/.anaconda3/lib/python3.7/site-packages/pandas/core/generic.py:415: FutureWarning: The default of the 'keep_tz' keyword will change to True in a future release. You can set 'keep_tz=True' to obtain the future behaviour and silence this warning.\n",
      "  dindex = axis_index.to_series()\n"
     ]
    },
    {
     "data": {
      "text/plain": [
       "Text(0, 0.5, 'Retweets Count')"
      ]
     },
     "execution_count": 52,
     "metadata": {},
     "output_type": "execute_result"
    },
    {
     "data": {
      "image/png": "[encoded data removed]",
      "text/plain": [
       "<Figure size 1080x288 with 1 Axes>"
      ]
     },
     "metadata": {
      "needs_background": "light"
     },
     "output_type": "display_data"
    }
   ],
   "source": [
    "df.query('favorite_count > 0').plot.scatter(x='favorite_count', y='retweet_count', alpha=0.2, figsize=(15,4))\n",
    "\n",
    "plt.title('The Relationship between favorites and reweets', color='r', fontsize=16)\n",
    "plt.xlabel('Favorites Count', color='b', fontsize=14)\n",
    "plt.ylabel('Retweets Count', color='b', fontsize=14)"
   ]
  },
  {
   "cell_type": "markdown",
   "metadata": {
    "ExecuteTime": {
     "end_time": "2019-09-18T08:18:25.871349Z",
     "start_time": "2019-09-18T08:18:18.980Z"
    }
   },
   "source": [
    "- 可以看出喜欢数和转发数直接存在着相关性"
   ]
  }
 ],
 "metadata": {
  "kernelspec": {
   "display_name": "Python 3",
   "language": "python",
   "name": "python3"
  },
  "language_info": {
   "codemirror_mode": {
    "name": "ipython",
    "version": 3
   },
   "file_extension": ".py",
   "mimetype": "text/x-python",
   "name": "python",
   "nbconvert_exporter": "python",
   "pygments_lexer": "ipython3",
   "version": "3.7.3"
  },
  "toc": {
   "base_numbering": 1,
   "nav_menu": {},
   "number_sections": true,
   "sideBar": true,
   "skip_h1_title": false,
   "title_cell": "Table of Contents",
   "title_sidebar": "Contents",
   "toc_cell": false,
   "toc_position": {},
   "toc_section_display": true,
   "toc_window_display": false
  },
  "varInspector": {
   "cols": {
    "lenName": 16,
    "lenType": 16,
    "lenVar": 40
   },
   "kernels_config": {
    "python": {
     "delete_cmd_postfix": "",
     "delete_cmd_prefix": "del ",
     "library": "var_list.py",
     "varRefreshCmd": "print(var_dic_list())"
    },
    "r": {
     "delete_cmd_postfix": ") ",
     "delete_cmd_prefix": "rm(",
     "library": "var_list.r",
     "varRefreshCmd": "cat(var_dic_list()) "
    }
   },
   "types_to_exclude": [
    "module",
    "function",
    "builtin_function_or_method",
    "instance",
    "_Feature"
   ],
   "window_display": false
  }
 },
 "nbformat": 4,
 "nbformat_minor": 2
}
